{
  "nbformat": 4,
  "nbformat_minor": 0,
  "metadata": {
    "colab": {
      "provenance": []
    },
    "kernelspec": {
      "name": "python3",
      "display_name": "Python 3"
    },
    "language_info": {
      "name": "python"
    }
  },
  "cells": [
    {
      "cell_type": "markdown",
      "source": [
        "Importing the necessary libraries."
      ],
      "metadata": {
        "id": "idzxTFRnFbT-"
      }
    },
    {
      "cell_type": "code",
      "source": [
        "!pip install deap\n",
        "import random\n",
        "import array\n",
        "import numpy as np\n",
        "\n",
        "from deap import base\n",
        "from deap import benchmarks\n",
        "from deap import creator\n",
        "from deap import tools\n",
        "from deap import tools"
      ],
      "metadata": {
        "colab": {
          "base_uri": "https://localhost:8080/"
        },
        "id": "891FwhIDFucR",
        "outputId": "9d54f1c7-abfe-4079-f56d-ee5b66f107b7"
      },
      "execution_count": null,
      "outputs": [
        {
          "output_type": "stream",
          "name": "stdout",
          "text": [
            "Requirement already satisfied: deap in /usr/local/lib/python3.10/dist-packages (1.4.1)\n",
            "Requirement already satisfied: numpy in /usr/local/lib/python3.10/dist-packages (from deap) (1.23.5)\n"
          ]
        }
      ]
    },
    {
      "cell_type": "markdown",
      "source": [
        "Define Problem Dimension and Create DEAP Classes\n",
        "\n",
        "**ACTIVITIES:**\n",
        "\n",
        "\n",
        "*   Change dimensions (NDIM) and observe the result."
      ],
      "metadata": {
        "id": "iPrfKJFK_8kE"
      }
    },
    {
      "cell_type": "code",
      "source": [
        "NDIM = 10\n",
        "creator.create(\"FitnessMin\", base.Fitness, weights=(-1.0,))\n",
        "creator.create(\"Individual\", array.array, typecode='d', fitness=creator.FitnessMin)"
      ],
      "metadata": {
        "colab": {
          "base_uri": "https://localhost:8080/"
        },
        "id": "LYjyW50Z_6dZ",
        "outputId": "462b1216-d809-401b-b193-681f280e45bb"
      },
      "execution_count": null,
      "outputs": [
        {
          "output_type": "stream",
          "name": "stderr",
          "text": [
            "/usr/local/lib/python3.10/dist-packages/deap/creator.py:185: RuntimeWarning: A class named 'FitnessMin' has already been created and it will be overwritten. Consider deleting previous creation of that class or rename it.\n",
            "  warnings.warn(\"A class named '{0}' has already been created and it \"\n",
            "/usr/local/lib/python3.10/dist-packages/deap/creator.py:185: RuntimeWarning: A class named 'Individual' has already been created and it will be overwritten. Consider deleting previous creation of that class or rename it.\n",
            "  warnings.warn(\"A class named '{0}' has already been created and it \"\n"
          ]
        }
      ]
    },
    {
      "cell_type": "markdown",
      "source": [
        "**Create DEAP Toolbox and Register Functions**:\n",
        "In the DEAP (Distributed Evolutionary Algorithms in Python) framework, the register function is part of the Toolbox class, which is used for managing evolutionary operators and parameters. The purpose of the register function is to associate a user-defined function or an existing function with a symbolic name within the toolbox.\n",
        "\n",
        "**ACTIVITIES**\n",
        "*   Adjust the range of the search space in the toolbox.register(\"attr_float\", random.uniform, -3, 3) line. For example, change the lower bound to -5 and the upper bound to 5.\n",
        "*   Run the code and observe how the change in search space affects the algorithm.\n"
      ],
      "metadata": {
        "id": "MjdUp3jTAQkj"
      }
    },
    {
      "cell_type": "code",
      "source": [
        "toolbox = base.Toolbox()\n",
        "toolbox.register(\"attr_float\", random.uniform, -3, 3)\n",
        "toolbox.register(\"individual\", tools.initRepeat, creator.Individual, toolbox.attr_float, NDIM)\n",
        "toolbox.register(\"population\", tools.initRepeat, list, toolbox.individual)\n",
        "toolbox.register(\"select\", tools.selRandom, k=3)\n",
        "toolbox.register(\"evaluate\", benchmarks.sphere)"
      ],
      "metadata": {
        "id": "Dn21RvvTAQ3x"
      },
      "execution_count": null,
      "outputs": []
    },
    {
      "cell_type": "markdown",
      "source": [
        "**Define Main Function**: Try changing CR, F, MU, NGEN variables and observe the results."
      ],
      "metadata": {
        "id": "j_V1hTw0AVHw"
      }
    },
    {
      "cell_type": "markdown",
      "source": [
        "**CR (Crossover Rate):** CR determines the probability of crossover during the mutation step.\n",
        "\n",
        "**ACTIVITIES**\n",
        "*   Change the value of CR to observe how different crossover rates influence the algorithm.\n",
        "*   Values typically range from 0 to 1.\n",
        "\n",
        "\n",
        "**F (Differential Weight):** F is the scaling factor that controls the amplification of the difference vector during mutation.\n",
        "\n",
        "**ACTIVITIES**\n",
        "*   Change the value of F to observe how different scaling factors influence the algorithm.\n",
        "*   Values typically range from 0 to 2.\n",
        "\n",
        "**MU (Population Size):** MU is the size of the population.\n",
        "\n",
        "**ACTIVITIES**\n",
        "*   Change the value of MU to observe how different population sizes influence the algorithm.\n",
        "*   Larger populations might explore the search space more thoroughly but could be computationally expensive.\n",
        "\n",
        "**NGEN (Number of Generations):** NGEN is the number of generations (iterations) the algorithm will run.\n",
        "\n",
        "**ACTIVITIES**\n",
        "*   Change the value of NGEN to observe how different numbers of generations influence the algorithm.\n",
        "*   More generations might allow the algorithm to converge to a better solution, but it could also increase computation time.\n"
      ],
      "metadata": {
        "id": "o_RQM0XMBe2y"
      }
    },
    {
      "cell_type": "code",
      "source": [
        "def main():\n",
        "    # Differential evolution parameters\n",
        "    CR = 0.25\n",
        "    F = 1\n",
        "    MU = 300\n",
        "    NGEN = 200\n",
        "\n",
        "    pop = toolbox.population(n=MU);\n",
        "    hof = tools.HallOfFame(1)\n",
        "    stats = tools.Statistics(lambda ind: ind.fitness.values)\n",
        "    stats.register(\"avg\", numpy.mean)\n",
        "    stats.register(\"std\", numpy.std)\n",
        "    stats.register(\"min\", numpy.min)\n",
        "    stats.register(\"max\", numpy.max)\n",
        "\n",
        "    logbook = tools.Logbook()\n",
        "    logbook.header = \"gen\", \"evals\", \"std\", \"min\", \"avg\", \"max\"\n",
        "\n",
        "    # Evaluate the individuals\n",
        "    fitnesses = toolbox.map(toolbox.evaluate, pop)\n",
        "    for ind, fit in zip(pop, fitnesses):\n",
        "        ind.fitness.values = fit\n",
        "\n",
        "    record = stats.compile(pop)\n",
        "    logbook.record(gen=0, evals=len(pop), **record)\n",
        "    print(logbook.stream)\n",
        "\n",
        "    for g in range(1, NGEN):\n",
        "        for k, agent in enumerate(pop):\n",
        "            a,b,c = toolbox.select(pop)\n",
        "            y = toolbox.clone(agent)\n",
        "            index = random.randrange(NDIM)\n",
        "            for i, value in enumerate(agent):\n",
        "                if i == index or random.random() < CR:\n",
        "                    y[i] = a[i] + F*(b[i]-c[i])\n",
        "            y.fitness.values = toolbox.evaluate(y)\n",
        "            if y.fitness > agent.fitness:\n",
        "                pop[k] = y\n",
        "        hof.update(pop)\n",
        "        record = stats.compile(pop)\n",
        "        logbook.record(gen=g, evals=len(pop), **record)\n",
        "        print(logbook.stream)\n",
        "\n",
        "    print(\"Best individual is \", hof[0], hof[0].fitness.values[0])\n",
        "\n",
        "if __name__ == \"__main__\":\n",
        "    main()"
      ],
      "metadata": {
        "colab": {
          "base_uri": "https://localhost:8080/"
        },
        "id": "U_BAJnGgAVVl",
        "outputId": "a843b681-530a-4a87-b840-1123684f01da"
      },
      "execution_count": null,
      "outputs": [
        {
          "output_type": "stream",
          "name": "stdout",
          "text": [
            "gen\tevals\tstd    \tmin    \tavg    \tmax    \n",
            "0  \t300  \t8.89955\t6.14126\t29.2004\t56.1623\n",
            "1  \t300  \t8.60933\t6.14126\t28.2993\t56.049 \n",
            "2  \t300  \t8.50103\t6.14126\t27.452 \t53.723 \n",
            "3  \t300  \t8.47059\t6.14126\t26.3445\t53.723 \n",
            "4  \t300  \t8.15524\t6.14126\t25.5852\t53.723 \n",
            "5  \t300  \t7.85041\t6.14126\t24.619 \t52.3667\n",
            "6  \t300  \t7.68358\t6.14126\t23.6461\t52.0016\n",
            "7  \t300  \t7.36371\t4.09068\t22.632 \t42.7246\n",
            "8  \t300  \t6.95422\t4.09068\t21.6761\t41.4999\n",
            "9  \t300  \t6.86479\t4.09068\t20.9886\t41.4999\n",
            "10 \t300  \t6.8231 \t4.09068\t20.2888\t41.4999\n",
            "11 \t300  \t6.66482\t4.09068\t19.4626\t41.4999\n",
            "12 \t300  \t6.56843\t4.09068\t18.7995\t41.4999\n",
            "13 \t300  \t6.3871 \t4.09068\t18.0285\t40.3707\n",
            "14 \t300  \t6.20304\t4.09068\t17.2723\t37.3418\n",
            "15 \t300  \t6.01507\t4.09068\t16.6351\t37.3418\n",
            "16 \t300  \t5.83567\t4.09068\t15.9417\t37.3418\n",
            "17 \t300  \t5.49029\t4.09068\t15.1392\t31.8795\n",
            "18 \t300  \t5.46766\t4.09068\t14.6462\t31.8795\n",
            "19 \t300  \t5.36719\t4.09068\t14.1996\t31.8795\n",
            "20 \t300  \t5.28035\t4.09068\t13.7653\t31.8795\n",
            "21 \t300  \t5.11748\t3.09757\t13.2152\t31.8795\n",
            "22 \t300  \t5.02476\t3.09757\t12.7567\t31.8795\n",
            "23 \t300  \t4.76272\t1.99108\t12.0818\t30.7406\n",
            "24 \t300  \t4.60738\t1.70636\t11.6173\t30.7406\n",
            "25 \t300  \t4.40063\t1.70636\t11.0922\t30.5729\n",
            "26 \t300  \t4.28005\t1.70636\t10.6571\t30.5729\n",
            "27 \t300  \t4.14927\t1.70636\t10.2174\t30.5729\n",
            "28 \t300  \t3.88481\t1.70636\t9.69755\t24.1343\n",
            "29 \t300  \t3.74247\t1.70636\t9.22704\t24.1343\n",
            "30 \t300  \t3.65453\t1.70636\t8.74245\t24.1343\n",
            "31 \t300  \t3.58672\t1.70636\t8.38695\t24.1343\n",
            "32 \t300  \t3.42813\t1.70636\t8.00403\t23.5469\n",
            "33 \t300  \t3.34064\t1.70636\t7.70709\t21.7924\n",
            "34 \t300  \t3.22539\t1.6071 \t7.42414\t21.7924\n",
            "35 \t300  \t2.99089\t1.34052\t7.08101\t18.4992\n",
            "36 \t300  \t2.9304 \t1.34052\t6.76804\t17.9348\n",
            "37 \t300  \t2.91644\t1.15098\t6.43886\t17.9348\n",
            "38 \t300  \t2.63066\t1.15098\t6.12558\t17.9348\n",
            "39 \t300  \t2.4214 \t1.15098\t5.82218\t14.3367\n",
            "40 \t300  \t2.27276\t1.15098\t5.489  \t14.3367\n",
            "41 \t300  \t2.1339 \t0.704985\t5.21918\t14.3367\n",
            "42 \t300  \t2.02873\t0.704985\t4.96418\t14.3367\n",
            "43 \t300  \t1.90822\t0.704985\t4.70372\t14.3367\n",
            "44 \t300  \t1.85115\t0.704985\t4.41067\t14.3367\n",
            "45 \t300  \t1.66609\t0.704985\t4.15078\t9.85752\n",
            "46 \t300  \t1.52304\t0.704985\t3.91858\t8.52291\n",
            "47 \t300  \t1.43355\t0.704985\t3.73239\t8.46833\n",
            "48 \t300  \t1.38399\t0.704985\t3.55593\t8.46833\n",
            "49 \t300  \t1.35799\t0.645915\t3.40647\t8.46833\n",
            "50 \t300  \t1.317  \t0.645915\t3.26035\t7.57288\n",
            "51 \t300  \t1.28026\t0.295155\t3.09527\t7.26256\n",
            "52 \t300  \t1.25399\t0.295155\t2.96385\t7.26256\n",
            "53 \t300  \t1.21722\t0.295155\t2.85577\t7.22368\n",
            "54 \t300  \t1.16613\t0.295155\t2.67273\t7.22368\n",
            "55 \t300  \t1.12157\t0.295155\t2.55365\t6.16467\n",
            "56 \t300  \t1.07364\t0.295155\t2.41997\t6.16467\n",
            "57 \t300  \t1.02863\t0.295155\t2.32385\t6.16467\n",
            "58 \t300  \t0.983939\t0.295155\t2.20066\t6.16467\n",
            "59 \t300  \t0.921938\t0.295155\t2.10754\t6.0418 \n",
            "60 \t300  \t0.899189\t0.295155\t2.01746\t6.0418 \n",
            "61 \t300  \t0.836272\t0.295155\t1.92307\t6.0418 \n",
            "62 \t300  \t0.80108 \t0.295155\t1.85142\t6.0418 \n",
            "63 \t300  \t0.758012\t0.295155\t1.78546\t6.0418 \n",
            "64 \t300  \t0.759419\t0.295155\t1.70322\t6.0418 \n",
            "65 \t300  \t0.708053\t0.295155\t1.63537\t4.3732 \n",
            "66 \t300  \t0.690153\t0.256336\t1.56058\t4.24252\n",
            "67 \t300  \t0.67469 \t0.256336\t1.49576\t4.24252\n",
            "68 \t300  \t0.653906\t0.256336\t1.45505\t3.78815\n",
            "69 \t300  \t0.622129\t0.256336\t1.38159\t3.74779\n",
            "70 \t300  \t0.587611\t0.256336\t1.30826\t3.66769\n",
            "71 \t300  \t0.557344\t0.256336\t1.2507 \t3.1649 \n",
            "72 \t300  \t0.533616\t0.256336\t1.19423\t3.04748\n",
            "73 \t300  \t0.47893 \t0.256336\t1.12607\t2.70963\n",
            "74 \t300  \t0.452854\t0.256336\t1.05769\t2.61039\n",
            "75 \t300  \t0.436002\t0.256336\t1.01081\t2.61039\n",
            "76 \t300  \t0.405833\t0.256336\t0.955236\t2.5433 \n",
            "77 \t300  \t0.385148\t0.177622\t0.907043\t2.5433 \n",
            "78 \t300  \t0.365436\t0.177622\t0.856595\t2.5433 \n",
            "79 \t300  \t0.343843\t0.162453\t0.814531\t2.5433 \n",
            "80 \t300  \t0.325979\t0.162453\t0.791402\t2.14063\n",
            "81 \t300  \t0.305615\t0.162453\t0.759695\t2.13005\n",
            "82 \t300  \t0.278388\t0.119195\t0.71571 \t1.78584\n",
            "83 \t300  \t0.274493\t0.113813\t0.688356\t1.78584\n",
            "84 \t300  \t0.26565 \t0.113813\t0.668762\t1.78584\n",
            "85 \t300  \t0.251166\t0.113813\t0.63298 \t1.78584\n",
            "86 \t300  \t0.239695\t0.113813\t0.602679\t1.55497\n",
            "87 \t300  \t0.230164\t0.113813\t0.577854\t1.55497\n",
            "88 \t300  \t0.216254\t0.11369 \t0.55453 \t1.43311\n",
            "89 \t300  \t0.215248\t0.11369 \t0.530642\t1.38035\n",
            "90 \t300  \t0.213811\t0.0742421\t0.499937\t1.38035\n",
            "91 \t300  \t0.203317\t0.0742421\t0.480332\t1.38035\n",
            "92 \t300  \t0.188148\t0.0725892\t0.45709 \t1.28135\n",
            "93 \t300  \t0.184549\t0.0725892\t0.436293\t1.01427\n",
            "94 \t300  \t0.172874\t0.0725892\t0.412657\t1.01427\n",
            "95 \t300  \t0.167071\t0.0725892\t0.390873\t0.893211\n",
            "96 \t300  \t0.161007\t0.0725892\t0.370828\t0.893211\n",
            "97 \t300  \t0.152422\t0.0715005\t0.352594\t0.880502\n",
            "98 \t300  \t0.14608 \t0.0715005\t0.337648\t0.880502\n",
            "99 \t300  \t0.133287\t0.0715005\t0.319432\t0.880502\n",
            "100\t300  \t0.12956 \t0.0695674\t0.306523\t0.880502\n",
            "101\t300  \t0.117886\t0.063873 \t0.290888\t0.705052\n",
            "102\t300  \t0.111923\t0.063873 \t0.277386\t0.669933\n",
            "103\t300  \t0.106685\t0.063873 \t0.261183\t0.669933\n",
            "104\t300  \t0.102481\t0.056427 \t0.24939 \t0.525362\n",
            "105\t300  \t0.0959403\t0.037097 \t0.23255 \t0.512511\n",
            "106\t300  \t0.0930842\t0.037097 \t0.219887\t0.500807\n",
            "107\t300  \t0.0868082\t0.037097 \t0.20923 \t0.439179\n",
            "108\t300  \t0.082011 \t0.037097 \t0.199436\t0.432137\n",
            "109\t300  \t0.0770475\t0.037097 \t0.186861\t0.431872\n",
            "110\t300  \t0.0745322\t0.037097 \t0.178727\t0.407961\n",
            "111\t300  \t0.0728123\t0.0287853\t0.171149\t0.407961\n",
            "112\t300  \t0.0678699\t0.0287853\t0.164716\t0.38837 \n",
            "113\t300  \t0.0666542\t0.0287853\t0.157123\t0.38367 \n",
            "114\t300  \t0.0657502\t0.0287853\t0.150361\t0.342284\n",
            "115\t300  \t0.0636617\t0.0287853\t0.14409 \t0.342284\n",
            "116\t300  \t0.0601323\t0.027572 \t0.138454\t0.327307\n",
            "117\t300  \t0.0574012\t0.0261911\t0.12926 \t0.327307\n",
            "118\t300  \t0.0544849\t0.0261911\t0.123503\t0.327307\n",
            "119\t300  \t0.0513604\t0.0261911\t0.117593\t0.327307\n",
            "120\t300  \t0.0477612\t0.0261911\t0.111431\t0.301227\n",
            "121\t300  \t0.0458753\t0.0261911\t0.105809\t0.301227\n",
            "122\t300  \t0.042958 \t0.0261911\t0.100352\t0.256939\n",
            "123\t300  \t0.0394635\t0.0244467\t0.0949573\t0.256939\n",
            "124\t300  \t0.0370376\t0.0244467\t0.0898344\t0.199016\n",
            "125\t300  \t0.0362168\t0.0244467\t0.0860045\t0.192969\n",
            "126\t300  \t0.0356036\t0.0187503\t0.08267  \t0.192969\n",
            "127\t300  \t0.0331962\t0.0187503\t0.079208 \t0.188807\n",
            "128\t300  \t0.031877 \t0.018441 \t0.0751493\t0.179854\n",
            "129\t300  \t0.0313416\t0.0111597\t0.072281 \t0.179854\n",
            "130\t300  \t0.0304633\t0.0111597\t0.0687785\t0.179854\n",
            "131\t300  \t0.0274733\t0.0111597\t0.0646577\t0.179854\n",
            "132\t300  \t0.0269554\t0.0111597\t0.0609954\t0.179854\n",
            "133\t300  \t0.0256202\t0.0111597\t0.058207 \t0.179854\n",
            "134\t300  \t0.0248313\t0.0111597\t0.0549078\t0.179854\n",
            "135\t300  \t0.0234581\t0.00861934\t0.0520697\t0.179854\n",
            "136\t300  \t0.0220068\t0.00861934\t0.0491232\t0.166103\n",
            "137\t300  \t0.0204157\t0.00861934\t0.046122 \t0.166103\n",
            "138\t300  \t0.0200045\t0.00830073\t0.044729 \t0.166103\n",
            "139\t300  \t0.0197244\t0.00748795\t0.0431817\t0.157938\n",
            "140\t300  \t0.0191497\t0.00748795\t0.0417421\t0.157938\n",
            "141\t300  \t0.0189105\t0.00742846\t0.040285 \t0.154828\n",
            "142\t300  \t0.0175811\t0.00639733\t0.0377531\t0.142203\n",
            "143\t300  \t0.0162092\t0.00639733\t0.0363486\t0.114417\n",
            "144\t300  \t0.0157782\t0.00538187\t0.0348253\t0.114417\n",
            "145\t300  \t0.0142896\t0.00538187\t0.0332076\t0.089174\n",
            "146\t300  \t0.0134734\t0.0034745 \t0.031372 \t0.0890423\n",
            "147\t300  \t0.0128005\t0.0034745 \t0.0300711\t0.078407 \n",
            "148\t300  \t0.011789 \t0.0034745 \t0.0284856\t0.0782307\n",
            "149\t300  \t0.0111917\t0.0034745 \t0.0271093\t0.0698815\n",
            "150\t300  \t0.0108729\t0.0034745 \t0.025782 \t0.0698815\n",
            "151\t300  \t0.0100155\t0.0034745 \t0.0245276\t0.0654805\n",
            "152\t300  \t0.00967795\t0.0034745 \t0.0235044\t0.0654805\n",
            "153\t300  \t0.00936386\t0.0034745 \t0.0227505\t0.0606586\n",
            "154\t300  \t0.00885162\t0.0034745 \t0.0216842\t0.0606586\n",
            "155\t300  \t0.00841836\t0.0034745 \t0.0208018\t0.0606586\n",
            "156\t300  \t0.00787495\t0.0034745 \t0.0198194\t0.0549724\n",
            "157\t300  \t0.0075327 \t0.0034745 \t0.018834 \t0.0540837\n",
            "158\t300  \t0.00737159\t0.00271055\t0.0179424\t0.0508893\n",
            "159\t300  \t0.00719951\t0.00271055\t0.0172059\t0.0508893\n",
            "160\t300  \t0.00686022\t0.00271055\t0.0164777\t0.0508893\n",
            "161\t300  \t0.00676909\t0.00271055\t0.0156771\t0.0508893\n",
            "162\t300  \t0.00657434\t0.00271055\t0.0151811\t0.0508893\n",
            "163\t300  \t0.00631293\t0.00271055\t0.0145834\t0.0508893\n",
            "164\t300  \t0.00569547\t0.00271055\t0.0138   \t0.0405375\n",
            "165\t300  \t0.0053465 \t0.00271055\t0.0129026\t0.0308766\n",
            "166\t300  \t0.00506343\t0.00271055\t0.0124037\t0.0308766\n",
            "167\t300  \t0.00470769\t0.00271055\t0.0117602\t0.0282418\n",
            "168\t300  \t0.00459583\t0.00271055\t0.0113706\t0.0282418\n",
            "169\t300  \t0.00442445\t0.00271055\t0.0109175\t0.0282418\n",
            "170\t300  \t0.00406066\t0.00271055\t0.0103973\t0.0240031\n",
            "171\t300  \t0.00395982\t0.00271055\t0.00993011\t0.0240031\n",
            "172\t300  \t0.00379278\t0.00247533\t0.00950301\t0.0230456\n",
            "173\t300  \t0.00365947\t0.00155639\t0.00915076\t0.021732 \n",
            "174\t300  \t0.00342872\t0.00155639\t0.00864091\t0.021732 \n",
            "175\t300  \t0.0032622 \t0.00155639\t0.00830067\t0.021732 \n",
            "176\t300  \t0.00313696\t0.00155639\t0.00794306\t0.021732 \n",
            "177\t300  \t0.00300339\t0.00155639\t0.00756068\t0.0193959\n",
            "178\t300  \t0.00276219\t0.00155639\t0.00708941\t0.0193959\n",
            "179\t300  \t0.00265745\t0.00155639\t0.00670351\t0.0193959\n",
            "180\t300  \t0.00258707\t0.00155639\t0.00632145\t0.0190217\n",
            "181\t300  \t0.0025006 \t0.00146584\t0.00610394\t0.0176759\n",
            "182\t300  \t0.00245937\t0.00146584\t0.00592269\t0.0176759\n",
            "183\t300  \t0.00229323\t0.00146584\t0.00563435\t0.0120258\n",
            "184\t300  \t0.00211726\t0.00146584\t0.00530085\t0.0116009\n",
            "185\t300  \t0.00199981\t0.00146584\t0.00496241\t0.0116009\n",
            "186\t300  \t0.0018969 \t0.00124958\t0.00468922\t0.0116009\n",
            "187\t300  \t0.00178241\t0.00124958\t0.0044807 \t0.0101284\n",
            "188\t300  \t0.00171445\t0.00124958\t0.00425062\t0.0101284\n",
            "189\t300  \t0.00170952\t0.000954188\t0.00406764\t0.0101116\n",
            "190\t300  \t0.00166654\t0.000741916\t0.00387038\t0.00944505\n",
            "191\t300  \t0.00155512\t0.000741916\t0.00368477\t0.00944505\n",
            "192\t300  \t0.00150314\t0.000741916\t0.00349175\t0.00944505\n",
            "193\t300  \t0.00145831\t0.000670202\t0.00332905\t0.00944505\n",
            "194\t300  \t0.00137981\t0.000670202\t0.00321793\t0.00901983\n",
            "195\t300  \t0.00131925\t0.000670202\t0.00306143\t0.00901983\n",
            "196\t300  \t0.00125156\t0.000670202\t0.00292594\t0.00901983\n",
            "197\t300  \t0.00115826\t0.000670202\t0.00277422\t0.00812564\n",
            "198\t300  \t0.00109006\t0.000670202\t0.00260224\t0.00812564\n",
            "199\t300  \t0.000995156\t0.000670202\t0.00244038\t0.00561919\n",
            "Best individual is  Individual('d', [-0.00834156440461431, 0.001804127645711029, 0.0012550248176361745, -0.0002879633350472144, 0.002215140011860628, -0.004288776153718699, -0.019102649649429537, -0.013605100257866098, -0.004208453745528029, -0.0021647319244375574]) 0.0006702021535107802\n"
          ]
        }
      ]
    },
    {
      "cell_type": "markdown",
      "source": [
        "Source: [DEAP GitHub](https://github.com/DEAP/deap/blob/master/examples/de/basic.py)"
      ],
      "metadata": {
        "id": "0sFcCljuCeQQ"
      }
    }
  ]
}