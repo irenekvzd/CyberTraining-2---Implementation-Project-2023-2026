{
  "nbformat": 4,
  "nbformat_minor": 0,
  "metadata": {
    "colab": {
      "provenance": []
    },
    "kernelspec": {
      "name": "python3",
      "display_name": "Python 3"
    },
    "language_info": {
      "name": "python"
    }
  },
  "cells": [
    {
      "cell_type": "markdown",
      "source": [
        "# Module 8: Partnering with AI"
      ],
      "metadata": {
        "id": "bwOvQwm1v9La"
      }
    },
    {
      "cell_type": "markdown",
      "source": [
        "The exploration begins by delving into the multifaceted landscape of artificial intelligence (AI) integration, meticulously examining its ethical, legal, and societal implications. It outlines the rapid advancements in AI technology and its far-reaching impact on various aspects of human life. Central themes and objectives, including the collaborative potential of human-AI partnerships and the imperative for ethical AI integration, are introduced. Through engaging with diverse perspectives and real-world examples, readers are equipped with the knowledge and tools necessary to navigate the complex terrain of AI integration responsibly and ethically."
      ],
      "metadata": {
        "id": "7RZ-OFPFwONp"
      }
    },
    {
      "cell_type": "markdown",
      "source": [
        "### Building Trust in Human-AI Partnerships:"
      ],
      "metadata": {
        "id": "m9TUg2huxExf"
      }
    },
    {
      "cell_type": "markdown",
      "source": [
        "Building Trust in Human-AI Partnerships focuses on the essential element of trust within collaborations between humans and AI, highlighting strategies to cultivate trust and transparency.\n",
        "- The exploration delves into the significance of explainable AI and emphasizes the necessity for diversity within development teams, offering insights into maintaining effective partnerships.\n",
        "- Through the presentation of case studies and practical examples, successful collaborations are showcased, providing valuable lessons in navigating the complexities of trust-building in environments driven by AI."
      ],
      "metadata": {
        "id": "mW2hKOL7weED"
      }
    },
    {
      "cell_type": "markdown",
      "source": [
        "### Challenges in AI Regulation and Ethics:"
      ],
      "metadata": {
        "id": "rmggCThqxUAN"
      }
    },
    {
      "cell_type": "markdown",
      "source": [
        "Addressing the intricate landscape of AI regulation, there's advocacy for adaptable frameworks that embrace diverse ethical perspectives.\n",
        "- Discussions center around the limitations of anthropocentric frameworks and the necessity for international cooperation in setting regulatory standards.\n",
        "- Real-world examples and case studies highlight the complexities of AI regulation, underscoring the importance of embracing agnostic ethics to navigate the evolving AI landscape effectively."
      ],
      "metadata": {
        "id": "IlRCdJ6cxoJ-"
      }
    },
    {
      "cell_type": "markdown",
      "source": [
        "### Ethical Considerations in AI Integration:"
      ],
      "metadata": {
        "id": "QGdt9spgyJ2g"
      }
    },
    {
      "cell_type": "markdown",
      "source": [
        "Delving into the ethical implications of AI integration, attention is given to the concept of AI personhood and its implications for ethical frameworks.\n",
        "- Exploring embedding ethical principles into AI development and navigating societal impacts.\n",
        "- Through thought-provoking case studies and ethical dilemmas, critical reflection on the ethical dimensions of AI integration is fostered, equipping readers with the tools to navigate this complex terrain responsibly."
      ],
      "metadata": {
        "id": "gqYZXS9ax3hL"
      }
    },
    {
      "cell_type": "markdown",
      "source": [
        "### Example:"
      ],
      "metadata": {
        "id": "0KaIrIU41nA6"
      }
    },
    {
      "cell_type": "markdown",
      "source": [
        "This Python program is a simple sentiment analysis chatbot that analyzes user input to determine sentiment and responds accordingly. It uses NLTK's SentimentIntensityAnalyzer to assess the sentiment of the input text and selects an appropriate response based on the detected sentiment."
      ],
      "metadata": {
        "id": "BmmFruFZ1sRI"
      }
    },
    {
      "cell_type": "markdown",
      "source": [
        "This block imports the necessary libraries for the sentiment analysis chatbot: NLTK for natural language processing and random for generating random responses."
      ],
      "metadata": {
        "id": "VS_JJogL2kKB"
      }
    },
    {
      "cell_type": "code",
      "source": [
        "# Import necessary libraries\n",
        "import nltk\n",
        "from nltk.sentiment import SentimentIntensityAnalyzer\n",
        "import random"
      ],
      "metadata": {
        "id": "RtUIlRJI1vkT"
      },
      "execution_count": null,
      "outputs": []
    },
    {
      "cell_type": "markdown",
      "source": [
        "This block initializes NLTK's SentimentIntensityAnalyzer for sentiment analysis."
      ],
      "metadata": {
        "id": "fxotztPy2qxO"
      }
    },
    {
      "cell_type": "code",
      "source": [
        "# Initialize NLTK's sentiment analyzer\n",
        "nltk.download('vader_lexicon')\n",
        "sia = SentimentIntensityAnalyzer()"
      ],
      "metadata": {
        "colab": {
          "base_uri": "https://localhost:8080/"
        },
        "id": "Wa6zyCkW2djL",
        "outputId": "31050283-7305-4583-8807-04c0baf1e19f"
      },
      "execution_count": null,
      "outputs": [
        {
          "output_type": "stream",
          "name": "stderr",
          "text": [
            "[nltk_data] Downloading package vader_lexicon to /root/nltk_data...\n"
          ]
        }
      ]
    },
    {
      "cell_type": "markdown",
      "source": [
        "This block defines a function analyze_sentiment() to analyze the sentiment of user input using NLTK's SentimentIntensityAnalyzer. It returns a dictionary containing sentiment scores (positive, negative, neutral, and compound) for the input text."
      ],
      "metadata": {
        "id": "Idq7CvZH26GP"
      }
    },
    {
      "cell_type": "code",
      "source": [
        "# Define function to analyze sentiment of user input\n",
        "def analyze_sentiment(text):\n",
        "    sentiment_score = sia.polarity_scores(text)\n",
        "    return sentiment_score"
      ],
      "metadata": {
        "id": "eFi_7VgR27-8"
      },
      "execution_count": null,
      "outputs": []
    },
    {
      "cell_type": "markdown",
      "source": [
        "This block defines a function select_response() to choose an appropriate response based on the sentiment detected in the user input."
      ],
      "metadata": {
        "id": "bXCG-hUO3GkJ"
      }
    },
    {
      "cell_type": "code",
      "source": [
        "# Define function to select a response based on sentiment and user input\n",
        "def select_response(sentiment, user_input):\n",
        "    if sentiment == 'positive':\n",
        "        return get_positive_response(user_input)\n",
        "    elif sentiment == 'negative':\n",
        "        return get_negative_response(user_input)\n",
        "    else:\n",
        "        return get_neutral_response(user_input)\n"
      ],
      "metadata": {
        "id": "KLQsvx413IR_"
      },
      "execution_count": null,
      "outputs": []
    },
    {
      "cell_type": "code",
      "source": [
        "# Define function to select a positive response\n",
        "def get_positive_response(user_input):\n",
        "    positive_keywords = ['good', 'great', 'happy', 'awesome', 'fantastic', 'excellent']\n",
        "    for keyword in positive_keywords:\n",
        "        if keyword in user_input.lower():\n",
        "            return random.choice([\n",
        "                f\"That's great to hear about {keyword}!\",\n",
        "                f\"I'm glad you're feeling {keyword}!\",\n",
        "                f\"Awesome! {keyword} is always a good sign.\",\n",
        "                f\"Fantastic! Your {keyword} mood is contagious.\"\n",
        "            ])\n",
        "    return random.choice([\n",
        "        \"That's great to hear!\",\n",
        "        \"I'm glad you're happy!\",\n",
        "        \"Good to know!\"\n",
        "    ])\n"
      ],
      "metadata": {
        "id": "jx__Guc03WO1"
      },
      "execution_count": null,
      "outputs": []
    },
    {
      "cell_type": "code",
      "source": [
        "# Define function to select a negative response\n",
        "def get_negative_response(user_input):\n",
        "    negative_keywords = ['bad', 'terrible', 'frustrating', 'sorry']\n",
        "    for keyword in negative_keywords:\n",
        "        if keyword in user_input.lower():\n",
        "            return random.choice([\n",
        "                f\"I'm sorry to hear about {keyword}.\",\n",
        "                f\"That sounds tough. {keyword} situations are never easy.\",\n",
        "                f\"Sorry to hear that. {keyword} experiences can be challenging.\"\n",
        "            ])\n",
        "    if 'return' in user_input.lower() or 'exchange' in user_input.lower():\n",
        "        return \"I'm sorry to hear that. Let me see how I can assist you.\"\n",
        "    return random.choice([\n",
        "        \"I'm sorry to hear that.\",\n",
        "        \"I understand, it can be frustrating.\"\n",
        "    ])\n"
      ],
      "metadata": {
        "id": "HFDyEuao3bWj"
      },
      "execution_count": null,
      "outputs": []
    },
    {
      "cell_type": "code",
      "source": [
        "# Define function to select a neutral response\n",
        "def get_neutral_response(user_input):\n",
        "    neutral_keywords = ['help', 'question', 'assist', 'anything']\n",
        "    for keyword in neutral_keywords:\n",
        "        if keyword in user_input.lower():\n",
        "            return random.choice([\n",
        "                \"I'm here to help!\",\n",
        "                \"Feel free to ask if you have any questions.\",\n",
        "                \"Let me know if there's anything I can assist you with.\"\n",
        "            ])\n",
        "    return random.choice([\n",
        "        \"Okay.\",\n",
        "        \"Got it.\",\n",
        "        \"Thanks for letting me know.\"\n",
        "    ])\n"
      ],
      "metadata": {
        "id": "76n0gwHK3fsj"
      },
      "execution_count": null,
      "outputs": []
    },
    {
      "cell_type": "markdown",
      "source": [
        "Test Case 1: User expresses positive sentiment"
      ],
      "metadata": {
        "id": "tkpeaJ5k3l86"
      }
    },
    {
      "cell_type": "code",
      "source": [
        "# Test Case 1: User expresses positive sentiment\n",
        "user_input_1 = \"I love this product! It's fantastic!\"\n",
        "sentiment_score_1 = analyze_sentiment(user_input_1)\n",
        "print(\"User Input: \",user_input_1)\n",
        "print(\"Sentiment Score:\", sentiment_score_1)\n",
        "response_1 = select_response('positive', user_input_1)\n",
        "print(\"Chatbot Response:\", response_1)\n",
        "print()"
      ],
      "metadata": {
        "colab": {
          "base_uri": "https://localhost:8080/"
        },
        "id": "qwcx2krq3pUD",
        "outputId": "2c6cd6be-3562-49be-c724-0deac9009923"
      },
      "execution_count": null,
      "outputs": [
        {
          "output_type": "stream",
          "name": "stdout",
          "text": [
            "User Input:  I love this product! It's fantastic!\n",
            "Sentiment Score: {'neg': 0.0, 'neu': 0.264, 'pos': 0.736, 'compound': 0.855}\n",
            "Chatbot Response: Fantastic! Your fantastic mood is contagious.\n",
            "\n"
          ]
        }
      ]
    },
    {
      "cell_type": "markdown",
      "source": [
        "Test Case 2: User expresses negative sentiment"
      ],
      "metadata": {
        "id": "H5qlsPFJ4HNk"
      }
    },
    {
      "cell_type": "code",
      "source": [
        "# Test Case 2: User expresses negative sentiment\n",
        "user_input_2 = \"I'm really disappointed with the service. It's terrible.\"\n",
        "print(\"User Input: \",user_input_2)\n",
        "sentiment_score_2 = analyze_sentiment(user_input_2)\n",
        "print(\"Sentiment Score:\", sentiment_score_2)\n",
        "response_2 = select_response('negative', user_input_2)\n",
        "print(\"Chatbot Response:\", response_2)\n",
        "print()"
      ],
      "metadata": {
        "colab": {
          "base_uri": "https://localhost:8080/"
        },
        "id": "_NLZwEkK4FDF",
        "outputId": "3c12792f-5861-4f01-e2ab-6608928b2ee1"
      },
      "execution_count": null,
      "outputs": [
        {
          "output_type": "stream",
          "name": "stdout",
          "text": [
            "User Input:  I'm really disappointed with the service. It's terrible.\n",
            "Sentiment Score: {'neg': 0.52, 'neu': 0.48, 'pos': 0.0, 'compound': -0.7574}\n",
            "Chatbot Response: I'm sorry to hear about terrible.\n",
            "\n"
          ]
        }
      ]
    },
    {
      "cell_type": "markdown",
      "source": [
        "Test Case 3: User expresses neutral sentiment"
      ],
      "metadata": {
        "id": "vc7D3H2M4af8"
      }
    },
    {
      "cell_type": "code",
      "source": [
        "# Test Case 3: User asks for assistance\n",
        "user_input_3 = \"Can you help me with this issue?\"\n",
        "print(\"User Input: \",user_input_3)\n",
        "sentiment_score_3 = analyze_sentiment(user_input_3)\n",
        "print(\"Sentiment Score:\", sentiment_score_3)\n",
        "response_3 = select_response('neutral', user_input_3)\n",
        "print(\"Chatbot Response:\", response_3)"
      ],
      "metadata": {
        "colab": {
          "base_uri": "https://localhost:8080/"
        },
        "id": "7WldZDsh4W8f",
        "outputId": "6a47a95a-4242-4852-e005-9ad3806cfa9a"
      },
      "execution_count": null,
      "outputs": [
        {
          "output_type": "stream",
          "name": "stdout",
          "text": [
            "User Input:  Can you help me with this issue?\n",
            "Sentiment Score: {'neg': 0.0, 'neu': 0.69, 'pos': 0.31, 'compound': 0.4019}\n",
            "Chatbot Response: Let me know if there's anything I can assist you with.\n"
          ]
        }
      ]
    },
    {
      "cell_type": "markdown",
      "source": [
        "Try it Yourself"
      ],
      "metadata": {
        "id": "buMgcg8x4wZW"
      }
    },
    {
      "cell_type": "code",
      "source": [
        "# Test Case 3: User asks for assistance\n",
        "user_input = input('Please enter your query:')\n",
        "print(\"User Input: \",user_input)\n",
        "sentiment_score = analyze_sentiment(user_input)\n",
        "print(\"Sentiment Score:\", sentiment_score)\n",
        "\n",
        "if sentiment_score['compound'] >= 0.1:\n",
        "    sentiment = 'positive'\n",
        "elif sentiment_score['compound'] <= -0.1:\n",
        "    sentiment = 'negative'\n",
        "else:\n",
        "    sentiment = 'neutral'\n",
        "\n",
        "response = select_response(sentiment, user_input)\n",
        "print(\"Chatbot:\", response)"
      ],
      "metadata": {
        "colab": {
          "base_uri": "https://localhost:8080/"
        },
        "id": "eVvfYHHv42SJ",
        "outputId": "0d177aee-7bf4-44b0-8102-8ad9f3532492"
      },
      "execution_count": null,
      "outputs": [
        {
          "output_type": "stream",
          "name": "stdout",
          "text": [
            "Please enter your query:Amazing product\n",
            "User Input:  Amazing product\n",
            "Sentiment Score: {'neg': 0.0, 'neu': 0.208, 'pos': 0.792, 'compound': 0.5859}\n",
            "Chatbot: That's great to hear!\n"
          ]
        }
      ]
    },
    {
      "cell_type": "markdown",
      "source": [],
      "metadata": {
        "id": "26RiUYeX4ESQ"
      }
    },
    {
      "cell_type": "markdown",
      "source": [],
      "metadata": {
        "id": "3Wf5H7we3Vpa"
      }
    },
    {
      "cell_type": "markdown",
      "source": [
        "## Conclusion:"
      ],
      "metadata": {
        "id": "UrPu_R5qyzVN"
      }
    },
    {
      "cell_type": "markdown",
      "source": [
        "The exploration of AI integration emphasizes the critical need for ethical, legal, and societal considerations. From cultivating trust in human-AI partnerships to addressing regulatory challenges and ethical complexities, a holistic approach is essential.\n",
        "\n",
        "Through engagement with diverse perspectives and real-world examples, responsible and ethical AI integration can be achieved.\n",
        "\n",
        "Upholding ethical standards and ensuring responsible governance are crucial as we harness AI's transformative potential for societal benefit, fostering a future where AI enhances human well-being and drives positive societal progress."
      ],
      "metadata": {
        "id": "tqRx7-ZEy5Gv"
      }
    }
  ]
}