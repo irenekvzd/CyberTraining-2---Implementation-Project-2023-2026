{
  "nbformat": 4,
  "nbformat_minor": 0,
  "metadata": {
    "colab": {
      "provenance": []
    },
    "kernelspec": {
      "name": "python3",
      "display_name": "Python 3"
    },
    "language_info": {
      "name": "python"
    }
  },
  "cells": [
    {
      "cell_type": "markdown",
      "source": [
        "# Module 8: Partnering with AI"
      ],
      "metadata": {
        "id": "bwOvQwm1v9La"
      }
    },
    {
      "cell_type": "markdown",
      "source": [
        "The exploration begins by delving into the multifaceted landscape of artificial intelligence (AI) integration, meticulously examining its ethical, legal, and societal implications. It outlines the rapid advancements in AI technology and its far-reaching impact on various aspects of human life. Central themes and objectives, including the collaborative potential of human-AI partnerships and the imperative for ethical AI integration, are introduced. Through engaging with diverse perspectives and real-world examples, readers are equipped with the knowledge and tools necessary to navigate the complex terrain of AI integration responsibly and ethically."
      ],
      "metadata": {
        "id": "7RZ-OFPFwONp"
      }
    },
    {
      "cell_type": "markdown",
      "source": [
        "### Building Trust in Human-AI Partnerships:"
      ],
      "metadata": {
        "id": "m9TUg2huxExf"
      }
    },
    {
      "cell_type": "markdown",
      "source": [
        "Building Trust in Human-AI Partnerships focuses on the essential element of trust within collaborations between humans and AI, highlighting strategies to cultivate trust and transparency.\n",
        "- The exploration delves into the significance of explainable AI and emphasizes the necessity for diversity within development teams, offering insights into maintaining effective partnerships.\n",
        "- Through the presentation of case studies and practical examples, successful collaborations are showcased, providing valuable lessons in navigating the complexities of trust-building in environments driven by AI."
      ],
      "metadata": {
        "id": "mW2hKOL7weED"
      }
    },
    {
      "cell_type": "markdown",
      "source": [
        "### Challenges in AI Regulation and Ethics:"
      ],
      "metadata": {
        "id": "rmggCThqxUAN"
      }
    },
    {
      "cell_type": "markdown",
      "source": [
        "Addressing the intricate landscape of AI regulation, there's advocacy for adaptable frameworks that embrace diverse ethical perspectives.\n",
        "- Discussions center around the limitations of anthropocentric frameworks and the necessity for international cooperation in setting regulatory standards.\n",
        "- Real-world examples and case studies highlight the complexities of AI regulation, underscoring the importance of embracing agnostic ethics to navigate the evolving AI landscape effectively."
      ],
      "metadata": {
        "id": "IlRCdJ6cxoJ-"
      }
    },
    {
      "cell_type": "markdown",
      "source": [
        "### Ethical Considerations in AI Integration:"
      ],
      "metadata": {
        "id": "QGdt9spgyJ2g"
      }
    },
    {
      "cell_type": "markdown",
      "source": [
        "Delving into the ethical implications of AI integration, attention is given to the concept of AI personhood and its implications for ethical frameworks.\n",
        "- Exploring embedding ethical principles into AI development and navigating societal impacts.\n",
        "- Through thought-provoking case studies and ethical dilemmas, critical reflection on the ethical dimensions of AI integration is fostered, equipping readers with the tools to navigate this complex terrain responsibly."
      ],
      "metadata": {
        "id": "gqYZXS9ax3hL"
      }
    },
    {
      "cell_type": "markdown",
      "source": [
        "### Example 1:"
      ],
      "metadata": {
        "id": "0KaIrIU41nA6"
      }
    },
    {
      "cell_type": "markdown",
      "source": [
        "This Python program is a simple sentiment analysis chatbot that analyzes user input to determine sentiment and responds accordingly. It uses NLTK's SentimentIntensityAnalyzer to assess the sentiment of the input text and selects an appropriate response based on the detected sentiment."
      ],
      "metadata": {
        "id": "BmmFruFZ1sRI"
      }
    },
    {
      "cell_type": "markdown",
      "source": [
        "This block imports the necessary libraries for the sentiment analysis chatbot: NLTK for natural language processing and random for generating random responses."
      ],
      "metadata": {
        "id": "VS_JJogL2kKB"
      }
    },
    {
      "cell_type": "code",
      "source": [
        "# Import necessary libraries\n",
        "import nltk\n",
        "from nltk.sentiment import SentimentIntensityAnalyzer\n",
        "import random"
      ],
      "metadata": {
        "id": "RtUIlRJI1vkT"
      },
      "execution_count": null,
      "outputs": []
    },
    {
      "cell_type": "markdown",
      "source": [
        "This block initializes NLTK's SentimentIntensityAnalyzer for sentiment analysis."
      ],
      "metadata": {
        "id": "fxotztPy2qxO"
      }
    },
    {
      "cell_type": "code",
      "source": [
        "# Initialize NLTK's sentiment analyzer\n",
        "nltk.download('vader_lexicon')\n",
        "sia = SentimentIntensityAnalyzer()"
      ],
      "metadata": {
        "colab": {
          "base_uri": "https://localhost:8080/"
        },
        "id": "Wa6zyCkW2djL",
        "outputId": "31050283-7305-4583-8807-04c0baf1e19f"
      },
      "execution_count": null,
      "outputs": [
        {
          "output_type": "stream",
          "name": "stderr",
          "text": [
            "[nltk_data] Downloading package vader_lexicon to /root/nltk_data...\n"
          ]
        }
      ]
    },
    {
      "cell_type": "markdown",
      "source": [
        "This block defines a function analyze_sentiment() to analyze the sentiment of user input using NLTK's SentimentIntensityAnalyzer. It returns a dictionary containing sentiment scores (positive, negative, neutral, and compound) for the input text."
      ],
      "metadata": {
        "id": "Idq7CvZH26GP"
      }
    },
    {
      "cell_type": "code",
      "source": [
        "# Define function to analyze sentiment of user input\n",
        "def analyze_sentiment(text):\n",
        "    sentiment_score = sia.polarity_scores(text)\n",
        "    return sentiment_score"
      ],
      "metadata": {
        "id": "eFi_7VgR27-8"
      },
      "execution_count": null,
      "outputs": []
    },
    {
      "cell_type": "markdown",
      "source": [
        "This block defines a function select_response() to choose an appropriate response based on the sentiment detected in the user input."
      ],
      "metadata": {
        "id": "bXCG-hUO3GkJ"
      }
    },
    {
      "cell_type": "code",
      "source": [
        "# Define function to select a response based on sentiment and user input\n",
        "def select_response(sentiment, user_input):\n",
        "    if sentiment == 'positive':\n",
        "        return get_positive_response(user_input)\n",
        "    elif sentiment == 'negative':\n",
        "        return get_negative_response(user_input)\n",
        "    else:\n",
        "        return get_neutral_response(user_input)\n"
      ],
      "metadata": {
        "id": "KLQsvx413IR_"
      },
      "execution_count": null,
      "outputs": []
    },
    {
      "cell_type": "code",
      "source": [
        "# Define function to select a positive response\n",
        "def get_positive_response(user_input):\n",
        "    positive_keywords = ['good', 'great', 'happy', 'awesome', 'fantastic', 'excellent']\n",
        "    for keyword in positive_keywords:\n",
        "        if keyword in user_input.lower():\n",
        "            return random.choice([\n",
        "                f\"That's great to hear about {keyword}!\",\n",
        "                f\"I'm glad you're feeling {keyword}!\",\n",
        "                f\"Awesome! {keyword} is always a good sign.\",\n",
        "                f\"Fantastic! Your {keyword} mood is contagious.\"\n",
        "            ])\n",
        "    return random.choice([\n",
        "        \"That's great to hear!\",\n",
        "        \"I'm glad you're happy!\",\n",
        "        \"Good to know!\"\n",
        "    ])\n"
      ],
      "metadata": {
        "id": "jx__Guc03WO1"
      },
      "execution_count": null,
      "outputs": []
    },
    {
      "cell_type": "code",
      "source": [
        "# Define function to select a negative response\n",
        "def get_negative_response(user_input):\n",
        "    negative_keywords = ['bad', 'terrible', 'frustrating', 'sorry']\n",
        "    for keyword in negative_keywords:\n",
        "        if keyword in user_input.lower():\n",
        "            return random.choice([\n",
        "                f\"I'm sorry to hear about {keyword}.\",\n",
        "                f\"That sounds tough. {keyword} situations are never easy.\",\n",
        "                f\"Sorry to hear that. {keyword} experiences can be challenging.\"\n",
        "            ])\n",
        "    if 'return' in user_input.lower() or 'exchange' in user_input.lower():\n",
        "        return \"I'm sorry to hear that. Let me see how I can assist you.\"\n",
        "    return random.choice([\n",
        "        \"I'm sorry to hear that.\",\n",
        "        \"I understand, it can be frustrating.\"\n",
        "    ])\n"
      ],
      "metadata": {
        "id": "HFDyEuao3bWj"
      },
      "execution_count": null,
      "outputs": []
    },
    {
      "cell_type": "code",
      "source": [
        "# Define function to select a neutral response\n",
        "def get_neutral_response(user_input):\n",
        "    neutral_keywords = ['help', 'question', 'assist', 'anything']\n",
        "    for keyword in neutral_keywords:\n",
        "        if keyword in user_input.lower():\n",
        "            return random.choice([\n",
        "                \"I'm here to help!\",\n",
        "                \"Feel free to ask if you have any questions.\",\n",
        "                \"Let me know if there's anything I can assist you with.\"\n",
        "            ])\n",
        "    return random.choice([\n",
        "        \"Okay.\",\n",
        "        \"Got it.\",\n",
        "        \"Thanks for letting me know.\"\n",
        "    ])\n"
      ],
      "metadata": {
        "id": "76n0gwHK3fsj"
      },
      "execution_count": null,
      "outputs": []
    },
    {
      "cell_type": "markdown",
      "source": [
        "Test Case 1: User expresses positive sentiment"
      ],
      "metadata": {
        "id": "tkpeaJ5k3l86"
      }
    },
    {
      "cell_type": "code",
      "source": [
        "# Test Case 1: User expresses positive sentiment\n",
        "user_input_1 = \"I love this product! It's fantastic!\"\n",
        "sentiment_score_1 = analyze_sentiment(user_input_1)\n",
        "print(\"User Input: \",user_input_1)\n",
        "print(\"Sentiment Score:\", sentiment_score_1)\n",
        "response_1 = select_response('positive', user_input_1)\n",
        "print(\"Chatbot Response:\", response_1)\n",
        "print()"
      ],
      "metadata": {
        "colab": {
          "base_uri": "https://localhost:8080/"
        },
        "id": "qwcx2krq3pUD",
        "outputId": "2c6cd6be-3562-49be-c724-0deac9009923"
      },
      "execution_count": null,
      "outputs": [
        {
          "output_type": "stream",
          "name": "stdout",
          "text": [
            "User Input:  I love this product! It's fantastic!\n",
            "Sentiment Score: {'neg': 0.0, 'neu': 0.264, 'pos': 0.736, 'compound': 0.855}\n",
            "Chatbot Response: Fantastic! Your fantastic mood is contagious.\n",
            "\n"
          ]
        }
      ]
    },
    {
      "cell_type": "markdown",
      "source": [
        "Test Case 2: User expresses negative sentiment"
      ],
      "metadata": {
        "id": "H5qlsPFJ4HNk"
      }
    },
    {
      "cell_type": "code",
      "source": [
        "# Test Case 2: User expresses negative sentiment\n",
        "user_input_2 = \"I'm really disappointed with the service. It's terrible.\"\n",
        "print(\"User Input: \",user_input_2)\n",
        "sentiment_score_2 = analyze_sentiment(user_input_2)\n",
        "print(\"Sentiment Score:\", sentiment_score_2)\n",
        "response_2 = select_response('negative', user_input_2)\n",
        "print(\"Chatbot Response:\", response_2)\n",
        "print()"
      ],
      "metadata": {
        "colab": {
          "base_uri": "https://localhost:8080/"
        },
        "id": "_NLZwEkK4FDF",
        "outputId": "3c12792f-5861-4f01-e2ab-6608928b2ee1"
      },
      "execution_count": null,
      "outputs": [
        {
          "output_type": "stream",
          "name": "stdout",
          "text": [
            "User Input:  I'm really disappointed with the service. It's terrible.\n",
            "Sentiment Score: {'neg': 0.52, 'neu': 0.48, 'pos': 0.0, 'compound': -0.7574}\n",
            "Chatbot Response: I'm sorry to hear about terrible.\n",
            "\n"
          ]
        }
      ]
    },
    {
      "cell_type": "markdown",
      "source": [
        "Test Case 3: User expresses neutral sentiment"
      ],
      "metadata": {
        "id": "vc7D3H2M4af8"
      }
    },
    {
      "cell_type": "code",
      "source": [
        "# Test Case 3: User asks for assistance\n",
        "user_input_3 = \"Can you help me with this issue?\"\n",
        "print(\"User Input: \",user_input_3)\n",
        "sentiment_score_3 = analyze_sentiment(user_input_3)\n",
        "print(\"Sentiment Score:\", sentiment_score_3)\n",
        "response_3 = select_response('neutral', user_input_3)\n",
        "print(\"Chatbot Response:\", response_3)"
      ],
      "metadata": {
        "colab": {
          "base_uri": "https://localhost:8080/"
        },
        "id": "7WldZDsh4W8f",
        "outputId": "6a47a95a-4242-4852-e005-9ad3806cfa9a"
      },
      "execution_count": null,
      "outputs": [
        {
          "output_type": "stream",
          "name": "stdout",
          "text": [
            "User Input:  Can you help me with this issue?\n",
            "Sentiment Score: {'neg': 0.0, 'neu': 0.69, 'pos': 0.31, 'compound': 0.4019}\n",
            "Chatbot Response: Let me know if there's anything I can assist you with.\n"
          ]
        }
      ]
    },
    {
      "cell_type": "markdown",
      "source": [
        "Try it Yourself"
      ],
      "metadata": {
        "id": "buMgcg8x4wZW"
      }
    },
    {
      "cell_type": "code",
      "source": [
        "# Test Case 3: User asks for assistance\n",
        "user_input = input('Please enter your query:')\n",
        "print(\"User Input: \",user_input)\n",
        "sentiment_score = analyze_sentiment(user_input)\n",
        "print(\"Sentiment Score:\", sentiment_score)\n",
        "\n",
        "if sentiment_score['compound'] >= 0.1:\n",
        "    sentiment = 'positive'\n",
        "elif sentiment_score['compound'] <= -0.1:\n",
        "    sentiment = 'negative'\n",
        "else:\n",
        "    sentiment = 'neutral'\n",
        "\n",
        "response = select_response(sentiment, user_input)\n",
        "print(\"Chatbot:\", response)"
      ],
      "metadata": {
        "colab": {
          "base_uri": "https://localhost:8080/"
        },
        "id": "eVvfYHHv42SJ",
        "outputId": "0d177aee-7bf4-44b0-8102-8ad9f3532492"
      },
      "execution_count": null,
      "outputs": [
        {
          "output_type": "stream",
          "name": "stdout",
          "text": [
            "Please enter your query:Amazing product\n",
            "User Input:  Amazing product\n",
            "Sentiment Score: {'neg': 0.0, 'neu': 0.208, 'pos': 0.792, 'compound': 0.5859}\n",
            "Chatbot: That's great to hear!\n"
          ]
        }
      ]
    },
    {
      "cell_type": "markdown",
      "source": [
        "### Example 2:"
      ],
      "metadata": {
        "id": "FfKlPum069sp"
      }
    },
    {
      "cell_type": "markdown",
      "source": [
        "This program utilizes AI, specifically natural language processing (NLP) techniques, to mask confidential information in text data. It identifies sensitive entities like names, organizations, phone numbers, email addresses, and addresses using spaCy and regular expressions. Then, it replaces these entities with masked placeholders to preserve text structure while ensuring data privacy."
      ],
      "metadata": {
        "id": "eLce4UIt7KR3"
      }
    },
    {
      "cell_type": "code",
      "source": [
        "!pip install spacy\n"
      ],
      "metadata": {
        "colab": {
          "base_uri": "https://localhost:8080/"
        },
        "id": "lbQzJv5_7RZi",
        "outputId": "281bded4-5534-47f9-b5c4-84abf3aaf85f"
      },
      "execution_count": 1,
      "outputs": [
        {
          "output_type": "stream",
          "name": "stdout",
          "text": [
            "Requirement already satisfied: spacy in /usr/local/lib/python3.10/dist-packages (3.7.4)\n",
            "Requirement already satisfied: spacy-legacy<3.1.0,>=3.0.11 in /usr/local/lib/python3.10/dist-packages (from spacy) (3.0.12)\n",
            "Requirement already satisfied: spacy-loggers<2.0.0,>=1.0.0 in /usr/local/lib/python3.10/dist-packages (from spacy) (1.0.5)\n",
            "Requirement already satisfied: murmurhash<1.1.0,>=0.28.0 in /usr/local/lib/python3.10/dist-packages (from spacy) (1.0.10)\n",
            "Requirement already satisfied: cymem<2.1.0,>=2.0.2 in /usr/local/lib/python3.10/dist-packages (from spacy) (2.0.8)\n",
            "Requirement already satisfied: preshed<3.1.0,>=3.0.2 in /usr/local/lib/python3.10/dist-packages (from spacy) (3.0.9)\n",
            "Requirement already satisfied: thinc<8.3.0,>=8.2.2 in /usr/local/lib/python3.10/dist-packages (from spacy) (8.2.3)\n",
            "Requirement already satisfied: wasabi<1.2.0,>=0.9.1 in /usr/local/lib/python3.10/dist-packages (from spacy) (1.1.2)\n",
            "Requirement already satisfied: srsly<3.0.0,>=2.4.3 in /usr/local/lib/python3.10/dist-packages (from spacy) (2.4.8)\n",
            "Requirement already satisfied: catalogue<2.1.0,>=2.0.6 in /usr/local/lib/python3.10/dist-packages (from spacy) (2.0.10)\n",
            "Requirement already satisfied: weasel<0.4.0,>=0.1.0 in /usr/local/lib/python3.10/dist-packages (from spacy) (0.3.4)\n",
            "Requirement already satisfied: typer<0.10.0,>=0.3.0 in /usr/local/lib/python3.10/dist-packages (from spacy) (0.9.4)\n",
            "Requirement already satisfied: smart-open<7.0.0,>=5.2.1 in /usr/local/lib/python3.10/dist-packages (from spacy) (6.4.0)\n",
            "Requirement already satisfied: tqdm<5.0.0,>=4.38.0 in /usr/local/lib/python3.10/dist-packages (from spacy) (4.66.2)\n",
            "Requirement already satisfied: requests<3.0.0,>=2.13.0 in /usr/local/lib/python3.10/dist-packages (from spacy) (2.31.0)\n",
            "Requirement already satisfied: pydantic!=1.8,!=1.8.1,<3.0.0,>=1.7.4 in /usr/local/lib/python3.10/dist-packages (from spacy) (2.6.4)\n",
            "Requirement already satisfied: jinja2 in /usr/local/lib/python3.10/dist-packages (from spacy) (3.1.3)\n",
            "Requirement already satisfied: setuptools in /usr/local/lib/python3.10/dist-packages (from spacy) (67.7.2)\n",
            "Requirement already satisfied: packaging>=20.0 in /usr/local/lib/python3.10/dist-packages (from spacy) (24.0)\n",
            "Requirement already satisfied: langcodes<4.0.0,>=3.2.0 in /usr/local/lib/python3.10/dist-packages (from spacy) (3.3.0)\n",
            "Requirement already satisfied: numpy>=1.19.0 in /usr/local/lib/python3.10/dist-packages (from spacy) (1.25.2)\n",
            "Requirement already satisfied: annotated-types>=0.4.0 in /usr/local/lib/python3.10/dist-packages (from pydantic!=1.8,!=1.8.1,<3.0.0,>=1.7.4->spacy) (0.6.0)\n",
            "Requirement already satisfied: pydantic-core==2.16.3 in /usr/local/lib/python3.10/dist-packages (from pydantic!=1.8,!=1.8.1,<3.0.0,>=1.7.4->spacy) (2.16.3)\n",
            "Requirement already satisfied: typing-extensions>=4.6.1 in /usr/local/lib/python3.10/dist-packages (from pydantic!=1.8,!=1.8.1,<3.0.0,>=1.7.4->spacy) (4.11.0)\n",
            "Requirement already satisfied: charset-normalizer<4,>=2 in /usr/local/lib/python3.10/dist-packages (from requests<3.0.0,>=2.13.0->spacy) (3.3.2)\n",
            "Requirement already satisfied: idna<4,>=2.5 in /usr/local/lib/python3.10/dist-packages (from requests<3.0.0,>=2.13.0->spacy) (3.6)\n",
            "Requirement already satisfied: urllib3<3,>=1.21.1 in /usr/local/lib/python3.10/dist-packages (from requests<3.0.0,>=2.13.0->spacy) (2.0.7)\n",
            "Requirement already satisfied: certifi>=2017.4.17 in /usr/local/lib/python3.10/dist-packages (from requests<3.0.0,>=2.13.0->spacy) (2024.2.2)\n",
            "Requirement already satisfied: blis<0.8.0,>=0.7.8 in /usr/local/lib/python3.10/dist-packages (from thinc<8.3.0,>=8.2.2->spacy) (0.7.11)\n",
            "Requirement already satisfied: confection<1.0.0,>=0.0.1 in /usr/local/lib/python3.10/dist-packages (from thinc<8.3.0,>=8.2.2->spacy) (0.1.4)\n",
            "Requirement already satisfied: click<9.0.0,>=7.1.1 in /usr/local/lib/python3.10/dist-packages (from typer<0.10.0,>=0.3.0->spacy) (8.1.7)\n",
            "Requirement already satisfied: cloudpathlib<0.17.0,>=0.7.0 in /usr/local/lib/python3.10/dist-packages (from weasel<0.4.0,>=0.1.0->spacy) (0.16.0)\n",
            "Requirement already satisfied: MarkupSafe>=2.0 in /usr/local/lib/python3.10/dist-packages (from jinja2->spacy) (2.1.5)\n"
          ]
        }
      ]
    },
    {
      "cell_type": "code",
      "source": [
        "import spacy\n",
        "import re"
      ],
      "metadata": {
        "id": "XpCKg5DZ7bIM"
      },
      "execution_count": 2,
      "outputs": []
    },
    {
      "cell_type": "code",
      "source": [
        "def redact_entities(text, entities):\n",
        "    redacted_text = text\n",
        "    for entity_type, entity_list in entities.items():\n",
        "        for entity in entity_list:\n",
        "            redacted_text = redacted_text.replace(entity, mask(entity))\n",
        "    return redacted_text"
      ],
      "metadata": {
        "id": "TdJ1CVrS7kUL"
      },
      "execution_count": 3,
      "outputs": []
    },
    {
      "cell_type": "code",
      "source": [
        "def mask(text):\n",
        "    return text[0] + '*' * (len(text) - 1)"
      ],
      "metadata": {
        "id": "PO4Oeh9_7lUg"
      },
      "execution_count": 4,
      "outputs": []
    },
    {
      "cell_type": "code",
      "source": [
        "def extract_entities(text):\n",
        "    nlp = spacy.load(\"en_core_web_sm\")\n",
        "    doc = nlp(text)\n",
        "\n",
        "    entities = {\n",
        "        \"PERSON\": [],\n",
        "        \"ORG\": [],\n",
        "        \"PHONE\": [],\n",
        "        \"EMAIL\": [],\n",
        "        \"ADDRESS\": []\n",
        "    }\n",
        "\n",
        "    # Using regex patterns to identify phone numbers and email addresses\n",
        "    phone_pattern = r'\\b(?:\\+\\d{1,2}\\s?)?\\(?\\d{3}\\)?[\\s.-]?\\d{3}[\\s.-]?\\d{4}\\b'\n",
        "    email_pattern = r'\\b[A-Za-z0-9._%+-]+@[A-Za-z0-9.-]+\\.[A-Z|a-z]{2,}\\b'\n",
        "\n",
        "    # Identify entities using spaCy\n",
        "    for ent in doc.ents:\n",
        "        if ent.label_ in entities:\n",
        "            entities[ent.label_].append(ent.text)\n",
        "\n",
        "    # Add phone numbers identified using regex\n",
        "    phone_numbers = re.findall(phone_pattern, text)\n",
        "    entities[\"PHONE\"].extend(phone_numbers)\n",
        "\n",
        "    # Add email addresses identified using regex\n",
        "    email_addresses = re.findall(email_pattern, text)\n",
        "    entities[\"EMAIL\"].extend(email_addresses)\n",
        "\n",
        "    return entities"
      ],
      "metadata": {
        "id": "rDCJCU5a7oY9"
      },
      "execution_count": 5,
      "outputs": []
    },
    {
      "cell_type": "markdown",
      "source": [
        "Test Case 1:"
      ],
      "metadata": {
        "id": "iD2MShcI763m"
      }
    },
    {
      "cell_type": "code",
      "source": [
        "input_text = \"\"\"\n",
        "    John Doe works at XYZ Corporation. You can reach him at (123) 456-7890 or john.doe@example.com.\n",
        "    The office is located at 123 Main Street, City. Please contact support@example.com for assistance.\n",
        "    \"\"\"\n",
        "\n",
        "entities = extract_entities(input_text)\n",
        "redacted_text = redact_entities(input_text, entities)\n",
        "print(\"Redacted Text:\")\n",
        "print(redacted_text)"
      ],
      "metadata": {
        "colab": {
          "base_uri": "https://localhost:8080/"
        },
        "id": "a9dQ6EhG7vX2",
        "outputId": "ec75259d-da96-4a12-b42b-db54198ea7d6"
      },
      "execution_count": 6,
      "outputs": [
        {
          "output_type": "stream",
          "name": "stdout",
          "text": [
            "Redacted Text:\n",
            "\n",
            "    J*** Doe works at X**************. You can reach him at (1************ or j*******************.\n",
            "    The office is located at 123 Main Street, City. Please contact s****************** for assistance.\n",
            "    \n"
          ]
        }
      ]
    },
    {
      "cell_type": "markdown",
      "source": [
        "Test Case 2:"
      ],
      "metadata": {
        "id": "fmIPuZKN8EMJ"
      }
    },
    {
      "cell_type": "code",
      "source": [
        "input_text = \"\"\"\n",
        "        John's phone number is (987) 654-3210.\n",
        "        Jane Susan cousin works at ABC Corporation.\n",
        "        Contact us at support@example.com for assistance.\n",
        "        The company's email is contact@company.com.\n",
        "        The organization is located at 123 Main Street, City.\n",
        "        Call us at +1 (234) 567-8901 for inquiries.\n",
        "    \"\"\"\n",
        "\n",
        "entities = extract_entities(input_text)\n",
        "redacted_text = redact_entities(input_text, entities)\n",
        "print(\"Redacted Text:\")\n",
        "print(redacted_text)"
      ],
      "metadata": {
        "colab": {
          "base_uri": "https://localhost:8080/"
        },
        "id": "Gz5Qv2R58Ctg",
        "outputId": "6b390bfd-f904-48e4-cb27-75195ec094b2"
      },
      "execution_count": 7,
      "outputs": [
        {
          "output_type": "stream",
          "name": "stdout",
          "text": [
            "Redacted Text:\n",
            "\n",
            "        J***'s phone number is (9************.\n",
            "        J********* cousin works at A**************.\n",
            "        Contact us at s****************** for assistance.\n",
            "        The company's email is c******************.\n",
            "        The organization is located at 123 Main Street, City.\n",
            "        Call us at +1 (2************ for inquiries.\n",
            "    \n"
          ]
        }
      ]
    },
    {
      "cell_type": "markdown",
      "source": [
        "Test Yourself"
      ],
      "metadata": {
        "id": "dGxAY_vq8W7o"
      }
    },
    {
      "cell_type": "code",
      "source": [
        "input_text = input('Enter text:')\n",
        "entities = extract_entities(input_text)\n",
        "redacted_text = redact_entities(input_text, entities)\n",
        "print(\"Redacted Text:\")\n",
        "print(redacted_text)"
      ],
      "metadata": {
        "colab": {
          "base_uri": "https://localhost:8080/"
        },
        "id": "Jb_D-tm38brU",
        "outputId": "530483c9-1000-47ab-9e7e-b307ce49bcb8"
      },
      "execution_count": 9,
      "outputs": [
        {
          "output_type": "stream",
          "name": "stdout",
          "text": [
            "Enter text:John's sister moved out of city.\n",
            "Redacted Text:\n",
            "J***'s sister moved out of city.\n"
          ]
        }
      ]
    },
    {
      "cell_type": "markdown",
      "source": [
        "## Conclusion:"
      ],
      "metadata": {
        "id": "UrPu_R5qyzVN"
      }
    },
    {
      "cell_type": "markdown",
      "source": [
        "The exploration of AI integration emphasizes the critical need for ethical, legal, and societal considerations. From cultivating trust in human-AI partnerships to addressing regulatory challenges and ethical complexities, a holistic approach is essential.\n",
        "\n",
        "Through engagement with diverse perspectives and real-world examples, responsible and ethical AI integration can be achieved.\n",
        "\n",
        "Upholding ethical standards and ensuring responsible governance are crucial as we harness AI's transformative potential for societal benefit, fostering a future where AI enhances human well-being and drives positive societal progress."
      ],
      "metadata": {
        "id": "tqRx7-ZEy5Gv"
      }
    }
  ]
}