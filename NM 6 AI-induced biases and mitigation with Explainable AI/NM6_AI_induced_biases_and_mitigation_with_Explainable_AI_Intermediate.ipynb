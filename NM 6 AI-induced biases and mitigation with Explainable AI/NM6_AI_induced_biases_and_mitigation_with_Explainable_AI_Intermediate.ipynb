{
  "nbformat": 4,
  "nbformat_minor": 0,
  "metadata": {
    "colab": {
      "provenance": []
    },
    "kernelspec": {
      "name": "python3",
      "display_name": "Python 3"
    },
    "language_info": {
      "name": "python"
    }
  },
  "cells": [
    {
      "cell_type": "code",
      "execution_count": null,
      "metadata": {
        "id": "9Et2-ROLqaxa"
      },
      "outputs": [],
      "source": [
        "\n",
        "# Import necessary libraries\n",
        "import pandas as pd\n",
        "import numpy as np\n",
        "import matplotlib.pyplot as plt\n",
        "\n",
        "# Load the biased dataset\n",
        "biased_dataset = pd.read_csv(\"biased_dataset.csv\")\n",
        "\n",
        "# Example 1: Analyze the distribution of sensitive attributes in the dataset\n",
        "# Calculate the distribution of gender in the dataset\n",
        "gender_distribution = biased_dataset[\"gender\"].value_counts()\n",
        "\n",
        "# Plot the distribution\n",
        "plt.bar(gender_distribution.index, gender_distribution.values)\n",
        "plt.xlabel(\"Gender\")\n",
        "plt.ylabel(\"Count\")\n",
        "plt.title(\"Distribution of Gender in the Dataset\")\n",
        "plt.show()\n",
        "\n",
        "# Example 2: Identify correlations between sensitive attributes and target variable\n",
        "# Calculate the correlation between gender and loan_approval\n",
        "gender_loan_correlation = np.corrcoef(biased_dataset[\"gender\"], biased_dataset[\"loan_approval\"])[0, 1]\n",
        "\n",
        "# Print the correlation\n",
        "print(\"Correlation between gender and loan approval:\", gender_loan_correlation)\n",
        "\n",
        "# Example 3: Develop a mitigating strategy to reduce bias\n",
        "# Create a new dataset with the sensitive attribute removed\n",
        "unbiased_dataset = biased_dataset.drop(\"gender\", axis=1)\n",
        "\n",
        "# Train a model on the unbiased dataset\n",
        "model = train_model(unbiased_dataset)\n",
        "\n",
        "# Evaluate the performance of the model on the biased dataset\n",
        "biased_dataset_performance = evaluate_model(model, biased_dataset)\n",
        "\n",
        "# Evaluate the performance of the model on the unbiased dataset\n",
        "unbiased_dataset_performance = evaluate_model(model, unbiased_dataset)\n",
        "\n",
        "# Print the performance metrics\n",
        "print(\"Performance on biased dataset:\", biased_dataset_performance)\n",
        "print(\"Performance on unbiased dataset:\", unbiased_dataset_performance)\n",
        "\n",
        "# Example 4: Explain the output of the model\n",
        "# Generate a prediction for a sample data point\n",
        "prediction = model.predict(biased_dataset.iloc[0])\n",
        "\n",
        "# Use a model explanation technique to explain the prediction\n",
        "explanation = explain_prediction(model, biased_dataset.iloc[0])\n",
        "\n",
        "# Print the explanation\n",
        "print(\"Explanation for the prediction:\", explanation)"
      ]
    },
    {
      "cell_type": "markdown",
      "source": [
        "In this code:\n",
        "\n",
        "1. We first import the necessary libraries.\n",
        "2. We load the biased dataset.\n",
        "3. We provide three examples of how to analyze AI bias:\n",
        "    * **Example 1:** Analyze the distribution of sensitive attributes in the dataset.\n",
        "    * **Example 2:** Identify correlations between sensitive attributes and the target variable.\n",
        "    * **Example 3:** Develop a mitigating strategy to reduce bias.\n",
        "4. We also provide an example of how to explain the output of the model using a model explanation technique.\n"
      ],
      "metadata": {
        "id": "Zx8aoPbDq904"
      }
    }
  ]
}