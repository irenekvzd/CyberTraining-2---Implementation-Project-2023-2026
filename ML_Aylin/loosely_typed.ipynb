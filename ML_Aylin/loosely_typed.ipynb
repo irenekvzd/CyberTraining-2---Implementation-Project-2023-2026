{
  "nbformat": 4,
  "nbformat_minor": 0,
  "metadata": {
    "colab": {
      "provenance": []
    },
    "kernelspec": {
      "name": "python3",
      "display_name": "Python 3"
    },
    "language_info": {
      "name": "python"
    }
  },
  "cells": [
    {
      "cell_type": "markdown",
      "source": [
        "Importing libraries to use."
      ],
      "metadata": {
        "id": "ATk5nRf5F0KF"
      }
    },
    {
      "cell_type": "code",
      "execution_count": null,
      "metadata": {
        "colab": {
          "base_uri": "https://localhost:8080/"
        },
        "id": "pWx3Hho2EFMq",
        "outputId": "df434c2f-e661-4652-ed64-f03611b49f0a"
      },
      "outputs": [
        {
          "output_type": "stream",
          "name": "stdout",
          "text": [
            "Requirement already satisfied: deap in /usr/local/lib/python3.10/dist-packages (1.4.1)\n",
            "Requirement already satisfied: numpy in /usr/local/lib/python3.10/dist-packages (from deap) (1.23.5)\n"
          ]
        }
      ],
      "source": [
        "!pip install deap\n",
        "import operator\n",
        "from deap import gp\n"
      ]
    },
    {
      "cell_type": "markdown",
      "source": [
        "First we set up a primitive set with two input arguments (\"x\" and \"y\") and includes the max, add, mul functions as primitives, and a constant terminal 3. You can run this cell to define the primitive set.\n",
        "\n",
        "**ACTIVITIES**:\n",
        "\n",
        "\n",
        "*   Add or remove primitives from the primitive set (pset). For example, add operator.sub or operator.div as new primitives.\n",
        "*   Run the code and observe how the modified primitive set affects the generated expression tree.\n"
      ],
      "metadata": {
        "id": "pNBqvJ1ZWd6E"
      }
    },
    {
      "cell_type": "code",
      "source": [
        "# Create a loosely typed primitive set\n",
        "pset = gp.PrimitiveSet(\"main\", 2)\n",
        "pset.addPrimitive(max, 2)\n",
        "pset.addPrimitive(operator.add, 2)\n",
        "pset.addPrimitive(operator.mul, 2)\n",
        "pset.addTerminal(3)\n",
        "\n",
        "# Rename arguments to \"x\" and \"y\"\n",
        "pset.renameArguments(ARG0=\"x\")\n",
        "pset.renameArguments(ARG1=\"y\")"
      ],
      "metadata": {
        "id": "MKxCJAy6Wacz"
      },
      "execution_count": null,
      "outputs": []
    },
    {
      "cell_type": "markdown",
      "source": [
        "We add a unary negation primitive to the primitive set. You can run this cell to extend the primitive set."
      ],
      "metadata": {
        "id": "FtJSC4yKOMhQ"
      }
    },
    {
      "cell_type": "code",
      "source": [
        "# Add a unary negation primitive\n",
        "pset.addPrimitive(operator.neg, 1)"
      ],
      "metadata": {
        "id": "-YqVO9euEPgA"
      },
      "execution_count": null,
      "outputs": []
    },
    {
      "cell_type": "markdown",
      "source": [
        "This code generates a valid full tree with height randomly chosen between 1 and 3 using the genFull function. You can run this cell to create a primitive tree.\n",
        "\n",
        "**ACTIVITIES**:\n",
        "\n",
        "*   Modify the expression generation method from gp.genFull to gp.genGrow or gp.genHalfAndHalf.\n",
        "* Modify the min_ and max_ parameters in the gp.genFull function to create expression trees with different heights.\n",
        "* Run the code and observe how changing the height affects the complexity of the expression tree.\n",
        "\n"
      ],
      "metadata": {
        "id": "IVGv9crkOP0i"
      }
    },
    {
      "cell_type": "code",
      "source": [
        "# Generate a full expression with height randomly chosen between 1 and 3\n",
        "expr = gp.genFull(pset, min_=1, max_=3)\n",
        "tree = gp.PrimitiveTree(expr)"
      ],
      "metadata": {
        "id": "ht7WmPR-EkYj"
      },
      "execution_count": null,
      "outputs": []
    },
    {
      "cell_type": "markdown",
      "source": [
        "We print the Primitive Set, Modified Primitive Set, and Expression Tree."
      ],
      "metadata": {
        "id": "EQrjbev6ObGu"
      }
    },
    {
      "cell_type": "code",
      "source": [
        "print(\"Primitive Set:\")\n",
        "print(pset)\n",
        "\n",
        "\n",
        "# Print the modified primitive set\n",
        "print(\"\\nModified Primitive Set:\")\n",
        "print(pset)\n",
        "\n",
        "# Print the expression tree\n",
        "print(\"\\nExpression Tree:\")\n",
        "print(tree)\n"
      ],
      "metadata": {
        "colab": {
          "base_uri": "https://localhost:8080/"
        },
        "id": "66NSPtN5EvuQ",
        "outputId": "ea95d6e4-f199-45ce-e3a6-f8b69e3232b4"
      },
      "execution_count": null,
      "outputs": [
        {
          "output_type": "stream",
          "name": "stdout",
          "text": [
            "Primitive Set:\n",
            "<deap.gp.PrimitiveSet object at 0x794e1c346980>\n",
            "\n",
            "Modified Primitive Set:\n",
            "<deap.gp.PrimitiveSet object at 0x794e1c346980>\n",
            "\n",
            "Expression Tree:\n",
            "neg(max(neg(x), mul(3, 3)))\n"
          ]
        }
      ]
    },
    {
      "cell_type": "markdown",
      "source": [
        "Source: [Loosely Typed DEAP](https://deap.readthedocs.io/en/master/tutorials/advanced/gp.html)"
      ],
      "metadata": {
        "id": "nVgnHq4FG7GQ"
      }
    }
  ]
}