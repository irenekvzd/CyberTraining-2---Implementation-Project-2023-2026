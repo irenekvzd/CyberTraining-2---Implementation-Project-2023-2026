{
  "nbformat": 4,
  "nbformat_minor": 0,
  "metadata": {
    "colab": {
      "provenance": []
    },
    "kernelspec": {
      "name": "python3",
      "display_name": "Python 3"
    },
    "language_info": {
      "name": "python"
    }
  },
  "cells": [
    {
      "cell_type": "code",
      "source": [
        "pip install translate"
      ],
      "metadata": {
        "colab": {
          "base_uri": "https://localhost:8080/"
        },
        "id": "6U3Y_MejgzV2",
        "outputId": "366068df-629c-4d63-d11c-a7f5d4adebaa"
      },
      "execution_count": null,
      "outputs": [
        {
          "output_type": "stream",
          "name": "stdout",
          "text": [
            "Collecting translate\n",
            "  Downloading translate-3.6.1-py2.py3-none-any.whl (12 kB)\n",
            "Requirement already satisfied: click in /usr/local/lib/python3.10/dist-packages (from translate) (8.1.7)\n",
            "Requirement already satisfied: lxml in /usr/local/lib/python3.10/dist-packages (from translate) (4.9.4)\n",
            "Requirement already satisfied: requests in /usr/local/lib/python3.10/dist-packages (from translate) (2.31.0)\n",
            "Collecting libretranslatepy==2.1.1 (from translate)\n",
            "  Downloading libretranslatepy-2.1.1-py3-none-any.whl (3.2 kB)\n",
            "Requirement already satisfied: charset-normalizer<4,>=2 in /usr/local/lib/python3.10/dist-packages (from requests->translate) (3.3.2)\n",
            "Requirement already satisfied: idna<4,>=2.5 in /usr/local/lib/python3.10/dist-packages (from requests->translate) (3.6)\n",
            "Requirement already satisfied: urllib3<3,>=1.21.1 in /usr/local/lib/python3.10/dist-packages (from requests->translate) (2.0.7)\n",
            "Requirement already satisfied: certifi>=2017.4.17 in /usr/local/lib/python3.10/dist-packages (from requests->translate) (2024.2.2)\n",
            "Installing collected packages: libretranslatepy, translate\n",
            "Successfully installed libretranslatepy-2.1.1 translate-3.6.1\n"
          ]
        }
      ]
    },
    {
      "cell_type": "code",
      "source": [
        "pip install gtts"
      ],
      "metadata": {
        "colab": {
          "base_uri": "https://localhost:8080/"
        },
        "id": "OGJyM7aIhxw0",
        "outputId": "700a8e23-1a35-4e37-aa3c-33c2f04184fd"
      },
      "execution_count": null,
      "outputs": [
        {
          "output_type": "stream",
          "name": "stdout",
          "text": [
            "Collecting gtts\n",
            "  Downloading gTTS-2.5.1-py3-none-any.whl (29 kB)\n",
            "Requirement already satisfied: requests<3,>=2.27 in /usr/local/lib/python3.10/dist-packages (from gtts) (2.31.0)\n",
            "Requirement already satisfied: click<8.2,>=7.1 in /usr/local/lib/python3.10/dist-packages (from gtts) (8.1.7)\n",
            "Requirement already satisfied: charset-normalizer<4,>=2 in /usr/local/lib/python3.10/dist-packages (from requests<3,>=2.27->gtts) (3.3.2)\n",
            "Requirement already satisfied: idna<4,>=2.5 in /usr/local/lib/python3.10/dist-packages (from requests<3,>=2.27->gtts) (3.6)\n",
            "Requirement already satisfied: urllib3<3,>=1.21.1 in /usr/local/lib/python3.10/dist-packages (from requests<3,>=2.27->gtts) (2.0.7)\n",
            "Requirement already satisfied: certifi>=2017.4.17 in /usr/local/lib/python3.10/dist-packages (from requests<3,>=2.27->gtts) (2024.2.2)\n",
            "Installing collected packages: gtts\n",
            "Successfully installed gtts-2.5.1\n"
          ]
        }
      ]
    },
    {
      "cell_type": "code",
      "execution_count": null,
      "metadata": {
        "colab": {
          "base_uri": "https://localhost:8080/"
        },
        "id": "hiFmMY2CgeAM",
        "outputId": "1b033ead-741b-4b5f-cb48-5d41204ed3f3"
      },
      "outputs": [
        {
          "name": "stdout",
          "output_type": "stream",
          "text": [
            "Supported languages:\n",
            "English\n",
            "French\n",
            "German\n",
            "Spanish\n",
            "Italian\n",
            "Japanese\n",
            "Hindi\n",
            "Enter the source language (e.g., English): English\n",
            "Enter the target language (e.g., French): German\n"
          ]
        }
      ],
      "source": [
        "from translate import Translator\n",
        "from gtts import gTTS\n",
        "from IPython.display import Audio, display\n",
        "import io\n",
        "\n",
        "# Reduced list of supported languages\n",
        "supported_languages = {\n",
        "    'English': 'en',\n",
        "    'French': 'fr',\n",
        "    'German': 'de',\n",
        "    'Spanish': 'es',\n",
        "    'Italian': 'it',\n",
        "    'Japanese': 'ja',\n",
        "    'Hindi': 'hi'\n",
        "}\n",
        "\n",
        "# Display supported languages\n",
        "print(\"Supported languages:\")\n",
        "for lang_name in supported_languages:\n",
        "    print(f\"{lang_name}\")\n",
        "\n",
        "# Take input from user for source language, target language, and text to translate\n",
        "while True:\n",
        "    source_language_name = input(\"Enter the source language (e.g., English): \")\n",
        "    if source_language_name in supported_languages:\n",
        "        break\n",
        "    else:\n",
        "        print(\"Unsupported language. Please enter a supported language or check for any typos.\")\n",
        "\n",
        "while True:\n",
        "    target_language_name = input(\"Enter the target language (e.g., French): \")\n",
        "    if target_language_name in supported_languages:\n",
        "        break\n",
        "    else:\n",
        "        print(\"Unsupported language. Please enter a supported language or check for any typos.\")\n",
        "\n",
        "text_to_translate = input(\"Enter the text to translate: \")\n",
        "\n",
        "# Get language codes from language names\n",
        "source_language = supported_languages[source_language_name]\n",
        "target_language = supported_languages[target_language_name]\n",
        "\n",
        "# Initialize Translator object\n",
        "translator = Translator(from_lang=source_language, to_lang=target_language)\n",
        "\n",
        "# Translate the text to the target language\n",
        "translated_text = translator.translate(text_to_translate)\n",
        "\n",
        "# Convert translated text to speech in the target language\n",
        "tts = gTTS(translated_text, lang=target_language)\n",
        "\n",
        "# Convert text to speech and display the audio\n",
        "audio_bytes = io.BytesIO()\n",
        "tts.write_to_fp(audio_bytes)\n",
        "audio_bytes.seek(0)\n",
        "display(Audio(audio_bytes.read(), autoplay=True))\n"
      ]
    },
    {
      "cell_type": "code",
      "source": [],
      "metadata": {
        "id": "dDzwtCZwgfzS"
      },
      "execution_count": null,
      "outputs": []
    }
  ]
}